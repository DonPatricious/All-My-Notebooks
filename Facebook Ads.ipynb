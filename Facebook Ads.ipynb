{
 "cells": [
  {
   "cell_type": "code",
   "execution_count": 1,
   "id": "e7031dee-9442-4b7f-ab0a-7f1f25ce7a3b",
   "metadata": {},
   "outputs": [],
   "source": [
    "import pandas as pd"
   ]
  },
  {
   "cell_type": "code",
   "execution_count": 2,
   "id": "bd230f0e-6c70-41cb-8b1e-3e996345b5cf",
   "metadata": {},
   "outputs": [],
   "source": [
    "#creating dictionary of columns that should be strings\n",
    "dict_IDs = {'Ad ID':str,\n",
    "           'Campaign ID':str,\n",
    "           'Ad set ID':str,\n",
    "           'Page ID':str}\n",
    "\n",
    "#load datasets\n",
    "df_general = pd.read_csv('C:/Users/ASUS/Documents/Projects/Digital Marketing Head/Reports/Data/2024/General-Report.csv', dtype=dict_IDs)\n",
    "df_age = pd.read_csv('C:/Users/ASUS/Documents/Projects/Digital Marketing Head/Reports/Data/2024/Age.csv', dtype=dict_IDs)\n",
    "df_country = pd.read_csv('C:/Users/ASUS/Documents/Projects/Digital Marketing Head/Reports/Data/2024/Country.csv', dtype=dict_IDs)\n",
    "df_impression_dev = pd.read_csv('C:/Users/ASUS/Documents/Projects/Digital Marketing Head/Reports/Data/2024/Impression-Device.csv', dtype=dict_IDs)\n",
    "df_region = pd.read_csv('C:/Users/ASUS/Documents/Projects/Digital Marketing Head/Reports/Data/2024/Region.csv', dtype=dict_IDs)\n",
    "df_TOD_acct = pd.read_csv('C:/Users/ASUS/Documents/Projects/Digital Marketing Head/Reports/Data/2024/Time-of-the-dayad-account-time-zone.csv', dtype=dict_IDs)\n",
    "df_TOD_view = pd.read_csv('C:/Users/ASUS/Documents/Projects/Digital Marketing Head/Reports/Data/2024/Time-of-the-dayviewers-time-zone.csv', dtype=dict_IDs)"
   ]
  },
  {
   "cell_type": "code",
   "execution_count": 3,
   "id": "4df3ab86-0c21-41ac-bf70-f700b423d3a4",
   "metadata": {},
   "outputs": [],
   "source": [
    "#check \n",
    "list = df_general['Ad ID'].unique()\n",
    "pages = df_general['Page Name'].unique()\n",
    "pages_id = df_general['Page ID'].unique()"
   ]
  },
  {
   "cell_type": "code",
   "execution_count": 4,
   "id": "7ec8a024-cacf-43dc-8f22-cd3a48b25451",
   "metadata": {},
   "outputs": [],
   "source": [
    "a_list = []\n",
    "a_pages = []\n",
    "for n in list:\n",
    "    a_list.append(n)\n",
    "for o in pages:\n",
    "    a_pages.append(o)\n",
    "#create dictionary\n",
    "data_dict = {'Ad ID': a_list}\n",
    "page_dict = {'Page Name': a_pages}\n",
    "\n",
    "#creating new dataframe\n",
    "\n",
    "\n",
    "df_ads_id = pd.DataFrame(data_dict)\n",
    "df_pages = pd.DataFrame(page_dict)\n",
    "\n"
   ]
  },
  {
   "cell_type": "code",
   "execution_count": 5,
   "id": "6e2833ac-1c48-4ff6-a113-25f693f6aeb2",
   "metadata": {},
   "outputs": [],
   "source": [
    "#save all items to one excel file\n",
    "\n",
    "\n",
    "#creating sheet dictionary\n",
    "\n",
    "data_sheet = {'General':df_general, \n",
    "              'Age':df_age, \n",
    "              'Country':df_country, \n",
    "              'Impression_Dev': df_impression_dev, \n",
    "              'Region': df_region, \n",
    "              'Time Of Day-Acct': df_TOD_acct, \n",
    "              'Time of Day-Viewer': df_TOD_view, \n",
    "              'Ads_ID': df_ads_id,\n",
    "              'Page_List': df_pages}"
   ]
  },
  {
   "cell_type": "code",
   "execution_count": 6,
   "id": "32ffe309-99c3-4b08-86f7-d4858d4490d7",
   "metadata": {},
   "outputs": [],
   "source": [
    "#Saving to excel file using excel writer\n",
    "\n",
    "with pd.ExcelWriter('ADS_Summary_2024.xlsx') as writer:\n",
    "    for sheetname, df in data_sheet.items():\n",
    "        df.to_excel(writer, sheet_name=sheetname, index=False)\n"
   ]
  },
  {
   "cell_type": "code",
   "execution_count": null,
   "id": "bf44a7f8-5857-4403-8983-80b2f301ce1e",
   "metadata": {},
   "outputs": [],
   "source": []
  }
 ],
 "metadata": {
  "kernelspec": {
   "display_name": "Python 3 (ipykernel)",
   "language": "python",
   "name": "python3"
  },
  "language_info": {
   "codemirror_mode": {
    "name": "ipython",
    "version": 3
   },
   "file_extension": ".py",
   "mimetype": "text/x-python",
   "name": "python",
   "nbconvert_exporter": "python",
   "pygments_lexer": "ipython3",
   "version": "3.12.3"
  }
 },
 "nbformat": 4,
 "nbformat_minor": 5
}
