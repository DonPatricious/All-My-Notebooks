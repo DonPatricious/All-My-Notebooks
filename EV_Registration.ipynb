{
 "cells": [
  {
   "cell_type": "markdown",
   "id": "8b2c8f17-79b0-477c-8135-6f8bb5f94ddd",
   "metadata": {},
   "source": [
    "# Washington Electric Vehicle Registration"
   ]
  },
  {
   "cell_type": "markdown",
   "id": "ee208f73-1e28-4f83-b4a3-60a422d91afb",
   "metadata": {},
   "source": [
    "This dataset shows the Battery Electric Vehicles (BEVs) and Plug-in Hybrid Electric Vehicles (PHEVs) that are currently registered through Washington State Department of Licensing (DOL)."
   ]
  },
  {
   "cell_type": "code",
   "execution_count": 44,
   "id": "798e34f4-b639-42d3-a82d-1d02530bff53",
   "metadata": {},
   "outputs": [],
   "source": [
    "#importing libraries\n",
    "\n",
    "import pandas as pd\n",
    "import numpy as np"
   ]
  },
  {
   "cell_type": "code",
   "execution_count": 45,
   "id": "17d36a25-f2ac-414e-b9a4-7643da6ae9a3",
   "metadata": {},
   "outputs": [],
   "source": [
    "#loading data\n",
    "df = pd.read_csv('C:/Users/ASUS/Documents/Tableau Local Files/000-Datasets/Electric_Vehicle_Population_Data.csv')"
   ]
  },
  {
   "cell_type": "markdown",
   "id": "cd5ba718-812c-46da-bb1d-3c4366aba408",
   "metadata": {},
   "source": [
    "## Cleaning/Transformation"
   ]
  },
  {
   "cell_type": "code",
   "execution_count": 46,
   "id": "32f3ec11-c99b-4182-ad01-41277a26cba8",
   "metadata": {},
   "outputs": [
    {
     "data": {
      "text/html": [
       "<div>\n",
       "<style scoped>\n",
       "    .dataframe tbody tr th:only-of-type {\n",
       "        vertical-align: middle;\n",
       "    }\n",
       "\n",
       "    .dataframe tbody tr th {\n",
       "        vertical-align: top;\n",
       "    }\n",
       "\n",
       "    .dataframe thead th {\n",
       "        text-align: right;\n",
       "    }\n",
       "</style>\n",
       "<table border=\"1\" class=\"dataframe\">\n",
       "  <thead>\n",
       "    <tr style=\"text-align: right;\">\n",
       "      <th></th>\n",
       "      <th>VIN (1-10)</th>\n",
       "      <th>County</th>\n",
       "      <th>City</th>\n",
       "      <th>State</th>\n",
       "      <th>Postal Code</th>\n",
       "      <th>Model Year</th>\n",
       "      <th>Make</th>\n",
       "      <th>Model</th>\n",
       "      <th>Electric Vehicle Type</th>\n",
       "      <th>Clean Alternative Fuel Vehicle (CAFV) Eligibility</th>\n",
       "      <th>Electric Range</th>\n",
       "      <th>Base MSRP</th>\n",
       "      <th>Legislative District</th>\n",
       "      <th>DOL Vehicle ID</th>\n",
       "      <th>Vehicle Location</th>\n",
       "      <th>Electric Utility</th>\n",
       "      <th>2020 Census Tract</th>\n",
       "    </tr>\n",
       "  </thead>\n",
       "  <tbody>\n",
       "    <tr>\n",
       "      <th>0</th>\n",
       "      <td>WAUTPBFF4H</td>\n",
       "      <td>King</td>\n",
       "      <td>Seattle</td>\n",
       "      <td>WA</td>\n",
       "      <td>98126.0</td>\n",
       "      <td>2017</td>\n",
       "      <td>AUDI</td>\n",
       "      <td>A3</td>\n",
       "      <td>Plug-in Hybrid Electric Vehicle (PHEV)</td>\n",
       "      <td>Not eligible due to low battery range</td>\n",
       "      <td>16</td>\n",
       "      <td>0</td>\n",
       "      <td>34.0</td>\n",
       "      <td>235085336</td>\n",
       "      <td>POINT (-122.374105 47.54468)</td>\n",
       "      <td>CITY OF SEATTLE - (WA)|CITY OF TACOMA - (WA)</td>\n",
       "      <td>5.303301e+10</td>\n",
       "    </tr>\n",
       "    <tr>\n",
       "      <th>1</th>\n",
       "      <td>WAUUPBFF2J</td>\n",
       "      <td>Thurston</td>\n",
       "      <td>Olympia</td>\n",
       "      <td>WA</td>\n",
       "      <td>98502.0</td>\n",
       "      <td>2018</td>\n",
       "      <td>AUDI</td>\n",
       "      <td>A3</td>\n",
       "      <td>Plug-in Hybrid Electric Vehicle (PHEV)</td>\n",
       "      <td>Not eligible due to low battery range</td>\n",
       "      <td>16</td>\n",
       "      <td>0</td>\n",
       "      <td>22.0</td>\n",
       "      <td>237896795</td>\n",
       "      <td>POINT (-122.943445 47.059252)</td>\n",
       "      <td>PUGET SOUND ENERGY INC</td>\n",
       "      <td>5.306701e+10</td>\n",
       "    </tr>\n",
       "    <tr>\n",
       "      <th>2</th>\n",
       "      <td>5YJSA1E22H</td>\n",
       "      <td>Thurston</td>\n",
       "      <td>Lacey</td>\n",
       "      <td>WA</td>\n",
       "      <td>98516.0</td>\n",
       "      <td>2017</td>\n",
       "      <td>TESLA</td>\n",
       "      <td>MODEL S</td>\n",
       "      <td>Battery Electric Vehicle (BEV)</td>\n",
       "      <td>Clean Alternative Fuel Vehicle Eligible</td>\n",
       "      <td>210</td>\n",
       "      <td>0</td>\n",
       "      <td>22.0</td>\n",
       "      <td>154498865</td>\n",
       "      <td>POINT (-122.78083 47.083975)</td>\n",
       "      <td>PUGET SOUND ENERGY INC</td>\n",
       "      <td>5.306701e+10</td>\n",
       "    </tr>\n",
       "    <tr>\n",
       "      <th>3</th>\n",
       "      <td>1C4JJXP62M</td>\n",
       "      <td>Thurston</td>\n",
       "      <td>Tenino</td>\n",
       "      <td>WA</td>\n",
       "      <td>98589.0</td>\n",
       "      <td>2021</td>\n",
       "      <td>JEEP</td>\n",
       "      <td>WRANGLER</td>\n",
       "      <td>Plug-in Hybrid Electric Vehicle (PHEV)</td>\n",
       "      <td>Not eligible due to low battery range</td>\n",
       "      <td>25</td>\n",
       "      <td>0</td>\n",
       "      <td>20.0</td>\n",
       "      <td>154525493</td>\n",
       "      <td>POINT (-122.85403 46.856085)</td>\n",
       "      <td>PUGET SOUND ENERGY INC</td>\n",
       "      <td>5.306701e+10</td>\n",
       "    </tr>\n",
       "    <tr>\n",
       "      <th>4</th>\n",
       "      <td>5YJ3E1EC9L</td>\n",
       "      <td>Yakima</td>\n",
       "      <td>Yakima</td>\n",
       "      <td>WA</td>\n",
       "      <td>98902.0</td>\n",
       "      <td>2020</td>\n",
       "      <td>TESLA</td>\n",
       "      <td>MODEL 3</td>\n",
       "      <td>Battery Electric Vehicle (BEV)</td>\n",
       "      <td>Clean Alternative Fuel Vehicle Eligible</td>\n",
       "      <td>308</td>\n",
       "      <td>0</td>\n",
       "      <td>14.0</td>\n",
       "      <td>225996361</td>\n",
       "      <td>POINT (-120.524012 46.5973939)</td>\n",
       "      <td>PACIFICORP</td>\n",
       "      <td>5.307700e+10</td>\n",
       "    </tr>\n",
       "  </tbody>\n",
       "</table>\n",
       "</div>"
      ],
      "text/plain": [
       "   VIN (1-10)    County     City State  Postal Code  Model Year   Make  \\\n",
       "0  WAUTPBFF4H      King  Seattle    WA      98126.0        2017   AUDI   \n",
       "1  WAUUPBFF2J  Thurston  Olympia    WA      98502.0        2018   AUDI   \n",
       "2  5YJSA1E22H  Thurston    Lacey    WA      98516.0        2017  TESLA   \n",
       "3  1C4JJXP62M  Thurston   Tenino    WA      98589.0        2021   JEEP   \n",
       "4  5YJ3E1EC9L    Yakima   Yakima    WA      98902.0        2020  TESLA   \n",
       "\n",
       "      Model                   Electric Vehicle Type  \\\n",
       "0        A3  Plug-in Hybrid Electric Vehicle (PHEV)   \n",
       "1        A3  Plug-in Hybrid Electric Vehicle (PHEV)   \n",
       "2   MODEL S          Battery Electric Vehicle (BEV)   \n",
       "3  WRANGLER  Plug-in Hybrid Electric Vehicle (PHEV)   \n",
       "4   MODEL 3          Battery Electric Vehicle (BEV)   \n",
       "\n",
       "  Clean Alternative Fuel Vehicle (CAFV) Eligibility  Electric Range  \\\n",
       "0             Not eligible due to low battery range              16   \n",
       "1             Not eligible due to low battery range              16   \n",
       "2           Clean Alternative Fuel Vehicle Eligible             210   \n",
       "3             Not eligible due to low battery range              25   \n",
       "4           Clean Alternative Fuel Vehicle Eligible             308   \n",
       "\n",
       "   Base MSRP  Legislative District  DOL Vehicle ID  \\\n",
       "0          0                  34.0       235085336   \n",
       "1          0                  22.0       237896795   \n",
       "2          0                  22.0       154498865   \n",
       "3          0                  20.0       154525493   \n",
       "4          0                  14.0       225996361   \n",
       "\n",
       "                 Vehicle Location  \\\n",
       "0    POINT (-122.374105 47.54468)   \n",
       "1   POINT (-122.943445 47.059252)   \n",
       "2    POINT (-122.78083 47.083975)   \n",
       "3    POINT (-122.85403 46.856085)   \n",
       "4  POINT (-120.524012 46.5973939)   \n",
       "\n",
       "                               Electric Utility  2020 Census Tract  \n",
       "0  CITY OF SEATTLE - (WA)|CITY OF TACOMA - (WA)       5.303301e+10  \n",
       "1                        PUGET SOUND ENERGY INC       5.306701e+10  \n",
       "2                        PUGET SOUND ENERGY INC       5.306701e+10  \n",
       "3                        PUGET SOUND ENERGY INC       5.306701e+10  \n",
       "4                                    PACIFICORP       5.307700e+10  "
      ]
     },
     "execution_count": 46,
     "metadata": {},
     "output_type": "execute_result"
    }
   ],
   "source": [
    "#display dataframe\n",
    "df.head()"
   ]
  },
  {
   "cell_type": "code",
   "execution_count": 47,
   "id": "814d5292-f370-4065-b3d5-5c40b6138536",
   "metadata": {},
   "outputs": [
    {
     "data": {
      "text/plain": [
       "(181458, 17)"
      ]
     },
     "execution_count": 47,
     "metadata": {},
     "output_type": "execute_result"
    }
   ],
   "source": [
    "#checking the shape\n",
    "df.shape"
   ]
  },
  {
   "cell_type": "code",
   "execution_count": 48,
   "id": "6291b9af-036d-43cf-b463-ace57c31318b",
   "metadata": {},
   "outputs": [
    {
     "data": {
      "text/plain": [
       "0"
      ]
     },
     "execution_count": 48,
     "metadata": {},
     "output_type": "execute_result"
    }
   ],
   "source": [
    "#checking for duplicates\n",
    "df.duplicated().sum()"
   ]
  },
  {
   "cell_type": "code",
   "execution_count": 49,
   "id": "83906371-97a1-45a8-a170-9eb158f4c7ca",
   "metadata": {},
   "outputs": [
    {
     "data": {
      "text/plain": [
       "VIN (1-10)                                             0\n",
       "County                                                 3\n",
       "City                                                   3\n",
       "State                                                  0\n",
       "Postal Code                                            3\n",
       "Model Year                                             0\n",
       "Make                                                   0\n",
       "Model                                                  0\n",
       "Electric Vehicle Type                                  0\n",
       "Clean Alternative Fuel Vehicle (CAFV) Eligibility      0\n",
       "Electric Range                                         0\n",
       "Base MSRP                                              0\n",
       "Legislative District                                 398\n",
       "DOL Vehicle ID                                         0\n",
       "Vehicle Location                                       8\n",
       "Electric Utility                                       3\n",
       "2020 Census Tract                                      3\n",
       "dtype: int64"
      ]
     },
     "execution_count": 49,
     "metadata": {},
     "output_type": "execute_result"
    }
   ],
   "source": [
    "#checking for nulls\n",
    "df.isnull().sum()"
   ]
  },
  {
   "cell_type": "markdown",
   "id": "1d685ac3-3626-4d50-80bf-f858f1ff1ad9",
   "metadata": {},
   "source": [
    "Columns with nulls\n",
    "- County\n",
    "- City\n",
    "- Postal Code\n",
    "- Legislative Dist\n",
    "- Vehicle Location\n",
    "- Electric Utility\n",
    "- 2020 Census Tract"
   ]
  },
  {
   "cell_type": "markdown",
   "id": "c2f619c6-cf78-4840-9c3b-0465d8dd7fd8",
   "metadata": {},
   "source": [
    "### Checking Null Columns"
   ]
  },
  {
   "cell_type": "markdown",
   "id": "343d250b-6851-4182-b6e2-3514bd94ce65",
   "metadata": {},
   "source": [
    "#### County"
   ]
  },
  {
   "cell_type": "code",
   "execution_count": 50,
   "id": "7a150fce-ffeb-4852-bcf1-3c653a0ee1a3",
   "metadata": {},
   "outputs": [
    {
     "data": {
      "text/html": [
       "<div>\n",
       "<style scoped>\n",
       "    .dataframe tbody tr th:only-of-type {\n",
       "        vertical-align: middle;\n",
       "    }\n",
       "\n",
       "    .dataframe tbody tr th {\n",
       "        vertical-align: top;\n",
       "    }\n",
       "\n",
       "    .dataframe thead th {\n",
       "        text-align: right;\n",
       "    }\n",
       "</style>\n",
       "<table border=\"1\" class=\"dataframe\">\n",
       "  <thead>\n",
       "    <tr style=\"text-align: right;\">\n",
       "      <th></th>\n",
       "      <th>VIN (1-10)</th>\n",
       "      <th>County</th>\n",
       "      <th>City</th>\n",
       "      <th>State</th>\n",
       "      <th>Postal Code</th>\n",
       "      <th>Model Year</th>\n",
       "      <th>Make</th>\n",
       "      <th>Model</th>\n",
       "      <th>Electric Vehicle Type</th>\n",
       "      <th>Clean Alternative Fuel Vehicle (CAFV) Eligibility</th>\n",
       "      <th>Electric Range</th>\n",
       "      <th>Base MSRP</th>\n",
       "      <th>Legislative District</th>\n",
       "      <th>DOL Vehicle ID</th>\n",
       "      <th>Vehicle Location</th>\n",
       "      <th>Electric Utility</th>\n",
       "      <th>2020 Census Tract</th>\n",
       "    </tr>\n",
       "  </thead>\n",
       "  <tbody>\n",
       "    <tr>\n",
       "      <th>91</th>\n",
       "      <td>5YJSA1E21J</td>\n",
       "      <td>NaN</td>\n",
       "      <td>NaN</td>\n",
       "      <td>AE</td>\n",
       "      <td>NaN</td>\n",
       "      <td>2018</td>\n",
       "      <td>TESLA</td>\n",
       "      <td>MODEL S</td>\n",
       "      <td>Battery Electric Vehicle (BEV)</td>\n",
       "      <td>Clean Alternative Fuel Vehicle Eligible</td>\n",
       "      <td>249</td>\n",
       "      <td>0</td>\n",
       "      <td>NaN</td>\n",
       "      <td>220643132</td>\n",
       "      <td>NaN</td>\n",
       "      <td>NaN</td>\n",
       "      <td>NaN</td>\n",
       "    </tr>\n",
       "    <tr>\n",
       "      <th>136484</th>\n",
       "      <td>5YJXCAE24H</td>\n",
       "      <td>NaN</td>\n",
       "      <td>NaN</td>\n",
       "      <td>BC</td>\n",
       "      <td>NaN</td>\n",
       "      <td>2017</td>\n",
       "      <td>TESLA</td>\n",
       "      <td>MODEL X</td>\n",
       "      <td>Battery Electric Vehicle (BEV)</td>\n",
       "      <td>Clean Alternative Fuel Vehicle Eligible</td>\n",
       "      <td>200</td>\n",
       "      <td>0</td>\n",
       "      <td>NaN</td>\n",
       "      <td>159850029</td>\n",
       "      <td>NaN</td>\n",
       "      <td>NaN</td>\n",
       "      <td>NaN</td>\n",
       "    </tr>\n",
       "    <tr>\n",
       "      <th>163689</th>\n",
       "      <td>5YJ3E1EA5K</td>\n",
       "      <td>NaN</td>\n",
       "      <td>NaN</td>\n",
       "      <td>BC</td>\n",
       "      <td>NaN</td>\n",
       "      <td>2019</td>\n",
       "      <td>TESLA</td>\n",
       "      <td>MODEL 3</td>\n",
       "      <td>Battery Electric Vehicle (BEV)</td>\n",
       "      <td>Clean Alternative Fuel Vehicle Eligible</td>\n",
       "      <td>220</td>\n",
       "      <td>0</td>\n",
       "      <td>NaN</td>\n",
       "      <td>475254825</td>\n",
       "      <td>NaN</td>\n",
       "      <td>NaN</td>\n",
       "      <td>NaN</td>\n",
       "    </tr>\n",
       "  </tbody>\n",
       "</table>\n",
       "</div>"
      ],
      "text/plain": [
       "        VIN (1-10) County City State  Postal Code  Model Year   Make    Model  \\\n",
       "91      5YJSA1E21J    NaN  NaN    AE          NaN        2018  TESLA  MODEL S   \n",
       "136484  5YJXCAE24H    NaN  NaN    BC          NaN        2017  TESLA  MODEL X   \n",
       "163689  5YJ3E1EA5K    NaN  NaN    BC          NaN        2019  TESLA  MODEL 3   \n",
       "\n",
       "                 Electric Vehicle Type  \\\n",
       "91      Battery Electric Vehicle (BEV)   \n",
       "136484  Battery Electric Vehicle (BEV)   \n",
       "163689  Battery Electric Vehicle (BEV)   \n",
       "\n",
       "       Clean Alternative Fuel Vehicle (CAFV) Eligibility  Electric Range  \\\n",
       "91               Clean Alternative Fuel Vehicle Eligible             249   \n",
       "136484           Clean Alternative Fuel Vehicle Eligible             200   \n",
       "163689           Clean Alternative Fuel Vehicle Eligible             220   \n",
       "\n",
       "        Base MSRP  Legislative District  DOL Vehicle ID Vehicle Location  \\\n",
       "91              0                   NaN       220643132              NaN   \n",
       "136484          0                   NaN       159850029              NaN   \n",
       "163689          0                   NaN       475254825              NaN   \n",
       "\n",
       "       Electric Utility  2020 Census Tract  \n",
       "91                  NaN                NaN  \n",
       "136484              NaN                NaN  \n",
       "163689              NaN                NaN  "
      ]
     },
     "execution_count": 50,
     "metadata": {},
     "output_type": "execute_result"
    }
   ],
   "source": [
    "df.loc[df['County'].isnull()]"
   ]
  },
  {
   "cell_type": "markdown",
   "id": "5857a7bc-7fb1-426a-bea2-179cd23d51b3",
   "metadata": {},
   "source": [
    "State \"AE\" and \"BC\" should not belong. We are only interested with Washington State data."
   ]
  },
  {
   "cell_type": "code",
   "execution_count": 51,
   "id": "54eff06d-3900-47bc-b215-db135b95277d",
   "metadata": {},
   "outputs": [],
   "source": [
    "#removing rows\n",
    "df = df.loc[~df['County'].isnull()]"
   ]
  },
  {
   "cell_type": "markdown",
   "id": "0020f91a-9c38-497c-9b29-9d46c3ca5b70",
   "metadata": {},
   "source": [
    "#### City"
   ]
  },
  {
   "cell_type": "code",
   "execution_count": 52,
   "id": "d244cfe8-a4b1-42ba-9f14-7c746b4a26df",
   "metadata": {},
   "outputs": [
    {
     "data": {
      "text/html": [
       "<div>\n",
       "<style scoped>\n",
       "    .dataframe tbody tr th:only-of-type {\n",
       "        vertical-align: middle;\n",
       "    }\n",
       "\n",
       "    .dataframe tbody tr th {\n",
       "        vertical-align: top;\n",
       "    }\n",
       "\n",
       "    .dataframe thead th {\n",
       "        text-align: right;\n",
       "    }\n",
       "</style>\n",
       "<table border=\"1\" class=\"dataframe\">\n",
       "  <thead>\n",
       "    <tr style=\"text-align: right;\">\n",
       "      <th></th>\n",
       "      <th>VIN (1-10)</th>\n",
       "      <th>County</th>\n",
       "      <th>City</th>\n",
       "      <th>State</th>\n",
       "      <th>Postal Code</th>\n",
       "      <th>Model Year</th>\n",
       "      <th>Make</th>\n",
       "      <th>Model</th>\n",
       "      <th>Electric Vehicle Type</th>\n",
       "      <th>Clean Alternative Fuel Vehicle (CAFV) Eligibility</th>\n",
       "      <th>Electric Range</th>\n",
       "      <th>Base MSRP</th>\n",
       "      <th>Legislative District</th>\n",
       "      <th>DOL Vehicle ID</th>\n",
       "      <th>Vehicle Location</th>\n",
       "      <th>Electric Utility</th>\n",
       "      <th>2020 Census Tract</th>\n",
       "    </tr>\n",
       "  </thead>\n",
       "  <tbody>\n",
       "  </tbody>\n",
       "</table>\n",
       "</div>"
      ],
      "text/plain": [
       "Empty DataFrame\n",
       "Columns: [VIN (1-10), County, City, State, Postal Code, Model Year, Make, Model, Electric Vehicle Type, Clean Alternative Fuel Vehicle (CAFV) Eligibility, Electric Range, Base MSRP, Legislative District, DOL Vehicle ID, Vehicle Location, Electric Utility, 2020 Census Tract]\n",
       "Index: []"
      ]
     },
     "execution_count": 52,
     "metadata": {},
     "output_type": "execute_result"
    }
   ],
   "source": [
    "#view null\n",
    "df.loc[df['City'].isnull()]"
   ]
  },
  {
   "cell_type": "markdown",
   "id": "40022a41-763b-4eca-9f08-a306526f32d9",
   "metadata": {},
   "source": [
    "Null values remove from previous round"
   ]
  },
  {
   "cell_type": "markdown",
   "id": "6717a52e-d23e-471d-9645-d6072457528a",
   "metadata": {},
   "source": [
    "#### Postal Code"
   ]
  },
  {
   "cell_type": "code",
   "execution_count": 53,
   "id": "b0aae904-b040-4b13-bac3-c60c3f20e7bb",
   "metadata": {},
   "outputs": [
    {
     "data": {
      "text/html": [
       "<div>\n",
       "<style scoped>\n",
       "    .dataframe tbody tr th:only-of-type {\n",
       "        vertical-align: middle;\n",
       "    }\n",
       "\n",
       "    .dataframe tbody tr th {\n",
       "        vertical-align: top;\n",
       "    }\n",
       "\n",
       "    .dataframe thead th {\n",
       "        text-align: right;\n",
       "    }\n",
       "</style>\n",
       "<table border=\"1\" class=\"dataframe\">\n",
       "  <thead>\n",
       "    <tr style=\"text-align: right;\">\n",
       "      <th></th>\n",
       "      <th>VIN (1-10)</th>\n",
       "      <th>County</th>\n",
       "      <th>City</th>\n",
       "      <th>State</th>\n",
       "      <th>Postal Code</th>\n",
       "      <th>Model Year</th>\n",
       "      <th>Make</th>\n",
       "      <th>Model</th>\n",
       "      <th>Electric Vehicle Type</th>\n",
       "      <th>Clean Alternative Fuel Vehicle (CAFV) Eligibility</th>\n",
       "      <th>Electric Range</th>\n",
       "      <th>Base MSRP</th>\n",
       "      <th>Legislative District</th>\n",
       "      <th>DOL Vehicle ID</th>\n",
       "      <th>Vehicle Location</th>\n",
       "      <th>Electric Utility</th>\n",
       "      <th>2020 Census Tract</th>\n",
       "    </tr>\n",
       "  </thead>\n",
       "  <tbody>\n",
       "  </tbody>\n",
       "</table>\n",
       "</div>"
      ],
      "text/plain": [
       "Empty DataFrame\n",
       "Columns: [VIN (1-10), County, City, State, Postal Code, Model Year, Make, Model, Electric Vehicle Type, Clean Alternative Fuel Vehicle (CAFV) Eligibility, Electric Range, Base MSRP, Legislative District, DOL Vehicle ID, Vehicle Location, Electric Utility, 2020 Census Tract]\n",
       "Index: []"
      ]
     },
     "execution_count": 53,
     "metadata": {},
     "output_type": "execute_result"
    }
   ],
   "source": [
    "df.loc[df['Postal Code'].isnull()]"
   ]
  },
  {
   "cell_type": "markdown",
   "id": "d1b1c95a-7159-4206-b196-a6880fcc0e9d",
   "metadata": {},
   "source": [
    "Null values remove from previous round"
   ]
  },
  {
   "cell_type": "markdown",
   "id": "2696f4c6-2edb-4343-bd7f-5e926782a1f3",
   "metadata": {},
   "source": [
    "#### Legislative District"
   ]
  },
  {
   "cell_type": "code",
   "execution_count": 54,
   "id": "ae2db771-3f15-422e-8963-0b652a1dc466",
   "metadata": {},
   "outputs": [
    {
     "data": {
      "text/html": [
       "<div>\n",
       "<style scoped>\n",
       "    .dataframe tbody tr th:only-of-type {\n",
       "        vertical-align: middle;\n",
       "    }\n",
       "\n",
       "    .dataframe tbody tr th {\n",
       "        vertical-align: top;\n",
       "    }\n",
       "\n",
       "    .dataframe thead th {\n",
       "        text-align: right;\n",
       "    }\n",
       "</style>\n",
       "<table border=\"1\" class=\"dataframe\">\n",
       "  <thead>\n",
       "    <tr style=\"text-align: right;\">\n",
       "      <th></th>\n",
       "      <th>VIN (1-10)</th>\n",
       "      <th>County</th>\n",
       "      <th>City</th>\n",
       "      <th>State</th>\n",
       "      <th>Postal Code</th>\n",
       "      <th>Model Year</th>\n",
       "      <th>Make</th>\n",
       "      <th>Model</th>\n",
       "      <th>Electric Vehicle Type</th>\n",
       "      <th>Clean Alternative Fuel Vehicle (CAFV) Eligibility</th>\n",
       "      <th>Electric Range</th>\n",
       "      <th>Base MSRP</th>\n",
       "      <th>Legislative District</th>\n",
       "      <th>DOL Vehicle ID</th>\n",
       "      <th>Vehicle Location</th>\n",
       "      <th>Electric Utility</th>\n",
       "      <th>2020 Census Tract</th>\n",
       "    </tr>\n",
       "  </thead>\n",
       "  <tbody>\n",
       "    <tr>\n",
       "      <th>75359</th>\n",
       "      <td>7SAYGDEE8N</td>\n",
       "      <td>Stafford</td>\n",
       "      <td>Stafford</td>\n",
       "      <td>VA</td>\n",
       "      <td>22554.0</td>\n",
       "      <td>2022</td>\n",
       "      <td>TESLA</td>\n",
       "      <td>MODEL Y</td>\n",
       "      <td>Battery Electric Vehicle (BEV)</td>\n",
       "      <td>Eligibility unknown as battery range has not b...</td>\n",
       "      <td>0</td>\n",
       "      <td>0</td>\n",
       "      <td>NaN</td>\n",
       "      <td>223816197</td>\n",
       "      <td>POINT (-77.410205 38.42543)</td>\n",
       "      <td>NON WASHINGTON STATE ELECTRIC UTILITY</td>\n",
       "      <td>5.117901e+10</td>\n",
       "    </tr>\n",
       "    <tr>\n",
       "      <th>77137</th>\n",
       "      <td>1G1FZ6S00K</td>\n",
       "      <td>Washoe</td>\n",
       "      <td>Reno</td>\n",
       "      <td>NV</td>\n",
       "      <td>89521.0</td>\n",
       "      <td>2019</td>\n",
       "      <td>CHEVROLET</td>\n",
       "      <td>BOLT EV</td>\n",
       "      <td>Battery Electric Vehicle (BEV)</td>\n",
       "      <td>Clean Alternative Fuel Vehicle Eligible</td>\n",
       "      <td>238</td>\n",
       "      <td>0</td>\n",
       "      <td>NaN</td>\n",
       "      <td>231094930</td>\n",
       "      <td>POINT (-119.7280247 39.4154826)</td>\n",
       "      <td>NON WASHINGTON STATE ELECTRIC UTILITY</td>\n",
       "      <td>3.203100e+10</td>\n",
       "    </tr>\n",
       "    <tr>\n",
       "      <th>79747</th>\n",
       "      <td>7SAYGDEE4P</td>\n",
       "      <td>Sonoma</td>\n",
       "      <td>Healdsburg</td>\n",
       "      <td>CA</td>\n",
       "      <td>95448.0</td>\n",
       "      <td>2023</td>\n",
       "      <td>TESLA</td>\n",
       "      <td>MODEL Y</td>\n",
       "      <td>Battery Electric Vehicle (BEV)</td>\n",
       "      <td>Eligibility unknown as battery range has not b...</td>\n",
       "      <td>0</td>\n",
       "      <td>0</td>\n",
       "      <td>NaN</td>\n",
       "      <td>230255847</td>\n",
       "      <td>POINT (-122.8696164 38.6171774)</td>\n",
       "      <td>NON WASHINGTON STATE ELECTRIC UTILITY</td>\n",
       "      <td>6.097154e+09</td>\n",
       "    </tr>\n",
       "    <tr>\n",
       "      <th>81185</th>\n",
       "      <td>5YJSA1E54P</td>\n",
       "      <td>District of Columbia</td>\n",
       "      <td>Washington</td>\n",
       "      <td>DC</td>\n",
       "      <td>20003.0</td>\n",
       "      <td>2023</td>\n",
       "      <td>TESLA</td>\n",
       "      <td>MODEL S</td>\n",
       "      <td>Battery Electric Vehicle (BEV)</td>\n",
       "      <td>Eligibility unknown as battery range has not b...</td>\n",
       "      <td>0</td>\n",
       "      <td>0</td>\n",
       "      <td>NaN</td>\n",
       "      <td>238713044</td>\n",
       "      <td>POINT (-76.985835 38.88411)</td>\n",
       "      <td>NON WASHINGTON STATE ELECTRIC UTILITY</td>\n",
       "      <td>1.100101e+10</td>\n",
       "    </tr>\n",
       "    <tr>\n",
       "      <th>83014</th>\n",
       "      <td>5YJYGDEF3L</td>\n",
       "      <td>Platte</td>\n",
       "      <td>Platte City</td>\n",
       "      <td>MO</td>\n",
       "      <td>64079.0</td>\n",
       "      <td>2020</td>\n",
       "      <td>TESLA</td>\n",
       "      <td>MODEL Y</td>\n",
       "      <td>Battery Electric Vehicle (BEV)</td>\n",
       "      <td>Clean Alternative Fuel Vehicle Eligible</td>\n",
       "      <td>291</td>\n",
       "      <td>0</td>\n",
       "      <td>NaN</td>\n",
       "      <td>132400684</td>\n",
       "      <td>POINT (-94.77962 39.36557)</td>\n",
       "      <td>NON WASHINGTON STATE ELECTRIC UTILITY</td>\n",
       "      <td>2.916503e+10</td>\n",
       "    </tr>\n",
       "    <tr>\n",
       "      <th>...</th>\n",
       "      <td>...</td>\n",
       "      <td>...</td>\n",
       "      <td>...</td>\n",
       "      <td>...</td>\n",
       "      <td>...</td>\n",
       "      <td>...</td>\n",
       "      <td>...</td>\n",
       "      <td>...</td>\n",
       "      <td>...</td>\n",
       "      <td>...</td>\n",
       "      <td>...</td>\n",
       "      <td>...</td>\n",
       "      <td>...</td>\n",
       "      <td>...</td>\n",
       "      <td>...</td>\n",
       "      <td>...</td>\n",
       "      <td>...</td>\n",
       "    </tr>\n",
       "    <tr>\n",
       "      <th>180177</th>\n",
       "      <td>7SAYGDEF6P</td>\n",
       "      <td>Santa Barbara</td>\n",
       "      <td>Lompoc</td>\n",
       "      <td>CA</td>\n",
       "      <td>93436.0</td>\n",
       "      <td>2023</td>\n",
       "      <td>TESLA</td>\n",
       "      <td>MODEL Y</td>\n",
       "      <td>Battery Electric Vehicle (BEV)</td>\n",
       "      <td>Eligibility unknown as battery range has not b...</td>\n",
       "      <td>0</td>\n",
       "      <td>0</td>\n",
       "      <td>NaN</td>\n",
       "      <td>262433769</td>\n",
       "      <td>POINT (-120.454675 34.642185)</td>\n",
       "      <td>NON WASHINGTON STATE ELECTRIC UTILITY</td>\n",
       "      <td>6.083003e+09</td>\n",
       "    </tr>\n",
       "    <tr>\n",
       "      <th>180341</th>\n",
       "      <td>YV4ED3UL1P</td>\n",
       "      <td>Pima</td>\n",
       "      <td>Tucson</td>\n",
       "      <td>AZ</td>\n",
       "      <td>85718.0</td>\n",
       "      <td>2023</td>\n",
       "      <td>VOLVO</td>\n",
       "      <td>XC40</td>\n",
       "      <td>Battery Electric Vehicle (BEV)</td>\n",
       "      <td>Eligibility unknown as battery range has not b...</td>\n",
       "      <td>0</td>\n",
       "      <td>0</td>\n",
       "      <td>NaN</td>\n",
       "      <td>228303218</td>\n",
       "      <td>POINT (-110.9156341 32.3050619)</td>\n",
       "      <td>NON WASHINGTON STATE ELECTRIC UTILITY</td>\n",
       "      <td>4.019005e+09</td>\n",
       "    </tr>\n",
       "    <tr>\n",
       "      <th>180921</th>\n",
       "      <td>5YJYGDEE0M</td>\n",
       "      <td>Fairfax</td>\n",
       "      <td>Herndon</td>\n",
       "      <td>VA</td>\n",
       "      <td>20171.0</td>\n",
       "      <td>2021</td>\n",
       "      <td>TESLA</td>\n",
       "      <td>MODEL Y</td>\n",
       "      <td>Battery Electric Vehicle (BEV)</td>\n",
       "      <td>Eligibility unknown as battery range has not b...</td>\n",
       "      <td>0</td>\n",
       "      <td>0</td>\n",
       "      <td>NaN</td>\n",
       "      <td>170803944</td>\n",
       "      <td>POINT (-77.405463 38.929188)</td>\n",
       "      <td>NON WASHINGTON STATE ELECTRIC UTILITY</td>\n",
       "      <td>5.105948e+10</td>\n",
       "    </tr>\n",
       "    <tr>\n",
       "      <th>181305</th>\n",
       "      <td>1V2CMPE80P</td>\n",
       "      <td>San Diego</td>\n",
       "      <td>San Diego</td>\n",
       "      <td>CA</td>\n",
       "      <td>92124.0</td>\n",
       "      <td>2023</td>\n",
       "      <td>VOLKSWAGEN</td>\n",
       "      <td>ID.4</td>\n",
       "      <td>Battery Electric Vehicle (BEV)</td>\n",
       "      <td>Eligibility unknown as battery range has not b...</td>\n",
       "      <td>0</td>\n",
       "      <td>0</td>\n",
       "      <td>NaN</td>\n",
       "      <td>261635748</td>\n",
       "      <td>POINT (-117.096935 32.824435)</td>\n",
       "      <td>NON WASHINGTON STATE ELECTRIC UTILITY</td>\n",
       "      <td>6.073010e+09</td>\n",
       "    </tr>\n",
       "    <tr>\n",
       "      <th>181324</th>\n",
       "      <td>1N4BZ0CP3H</td>\n",
       "      <td>Prince William</td>\n",
       "      <td>Manassas</td>\n",
       "      <td>VA</td>\n",
       "      <td>20111.0</td>\n",
       "      <td>2017</td>\n",
       "      <td>NISSAN</td>\n",
       "      <td>LEAF</td>\n",
       "      <td>Battery Electric Vehicle (BEV)</td>\n",
       "      <td>Clean Alternative Fuel Vehicle Eligible</td>\n",
       "      <td>107</td>\n",
       "      <td>0</td>\n",
       "      <td>NaN</td>\n",
       "      <td>261843732</td>\n",
       "      <td>POINT (-77.440737 38.763617)</td>\n",
       "      <td>NON WASHINGTON STATE ELECTRIC UTILITY</td>\n",
       "      <td>5.115390e+10</td>\n",
       "    </tr>\n",
       "  </tbody>\n",
       "</table>\n",
       "<p>395 rows × 17 columns</p>\n",
       "</div>"
      ],
      "text/plain": [
       "        VIN (1-10)                County         City State  Postal Code  \\\n",
       "75359   7SAYGDEE8N              Stafford     Stafford    VA      22554.0   \n",
       "77137   1G1FZ6S00K                Washoe         Reno    NV      89521.0   \n",
       "79747   7SAYGDEE4P                Sonoma   Healdsburg    CA      95448.0   \n",
       "81185   5YJSA1E54P  District of Columbia   Washington    DC      20003.0   \n",
       "83014   5YJYGDEF3L                Platte  Platte City    MO      64079.0   \n",
       "...            ...                   ...          ...   ...          ...   \n",
       "180177  7SAYGDEF6P         Santa Barbara       Lompoc    CA      93436.0   \n",
       "180341  YV4ED3UL1P                  Pima       Tucson    AZ      85718.0   \n",
       "180921  5YJYGDEE0M               Fairfax      Herndon    VA      20171.0   \n",
       "181305  1V2CMPE80P             San Diego    San Diego    CA      92124.0   \n",
       "181324  1N4BZ0CP3H        Prince William     Manassas    VA      20111.0   \n",
       "\n",
       "        Model Year        Make    Model           Electric Vehicle Type  \\\n",
       "75359         2022       TESLA  MODEL Y  Battery Electric Vehicle (BEV)   \n",
       "77137         2019   CHEVROLET  BOLT EV  Battery Electric Vehicle (BEV)   \n",
       "79747         2023       TESLA  MODEL Y  Battery Electric Vehicle (BEV)   \n",
       "81185         2023       TESLA  MODEL S  Battery Electric Vehicle (BEV)   \n",
       "83014         2020       TESLA  MODEL Y  Battery Electric Vehicle (BEV)   \n",
       "...            ...         ...      ...                             ...   \n",
       "180177        2023       TESLA  MODEL Y  Battery Electric Vehicle (BEV)   \n",
       "180341        2023       VOLVO     XC40  Battery Electric Vehicle (BEV)   \n",
       "180921        2021       TESLA  MODEL Y  Battery Electric Vehicle (BEV)   \n",
       "181305        2023  VOLKSWAGEN     ID.4  Battery Electric Vehicle (BEV)   \n",
       "181324        2017      NISSAN     LEAF  Battery Electric Vehicle (BEV)   \n",
       "\n",
       "        Clean Alternative Fuel Vehicle (CAFV) Eligibility  Electric Range  \\\n",
       "75359   Eligibility unknown as battery range has not b...               0   \n",
       "77137             Clean Alternative Fuel Vehicle Eligible             238   \n",
       "79747   Eligibility unknown as battery range has not b...               0   \n",
       "81185   Eligibility unknown as battery range has not b...               0   \n",
       "83014             Clean Alternative Fuel Vehicle Eligible             291   \n",
       "...                                                   ...             ...   \n",
       "180177  Eligibility unknown as battery range has not b...               0   \n",
       "180341  Eligibility unknown as battery range has not b...               0   \n",
       "180921  Eligibility unknown as battery range has not b...               0   \n",
       "181305  Eligibility unknown as battery range has not b...               0   \n",
       "181324            Clean Alternative Fuel Vehicle Eligible             107   \n",
       "\n",
       "        Base MSRP  Legislative District  DOL Vehicle ID  \\\n",
       "75359           0                   NaN       223816197   \n",
       "77137           0                   NaN       231094930   \n",
       "79747           0                   NaN       230255847   \n",
       "81185           0                   NaN       238713044   \n",
       "83014           0                   NaN       132400684   \n",
       "...           ...                   ...             ...   \n",
       "180177          0                   NaN       262433769   \n",
       "180341          0                   NaN       228303218   \n",
       "180921          0                   NaN       170803944   \n",
       "181305          0                   NaN       261635748   \n",
       "181324          0                   NaN       261843732   \n",
       "\n",
       "                       Vehicle Location  \\\n",
       "75359       POINT (-77.410205 38.42543)   \n",
       "77137   POINT (-119.7280247 39.4154826)   \n",
       "79747   POINT (-122.8696164 38.6171774)   \n",
       "81185       POINT (-76.985835 38.88411)   \n",
       "83014        POINT (-94.77962 39.36557)   \n",
       "...                                 ...   \n",
       "180177    POINT (-120.454675 34.642185)   \n",
       "180341  POINT (-110.9156341 32.3050619)   \n",
       "180921     POINT (-77.405463 38.929188)   \n",
       "181305    POINT (-117.096935 32.824435)   \n",
       "181324     POINT (-77.440737 38.763617)   \n",
       "\n",
       "                             Electric Utility  2020 Census Tract  \n",
       "75359   NON WASHINGTON STATE ELECTRIC UTILITY       5.117901e+10  \n",
       "77137   NON WASHINGTON STATE ELECTRIC UTILITY       3.203100e+10  \n",
       "79747   NON WASHINGTON STATE ELECTRIC UTILITY       6.097154e+09  \n",
       "81185   NON WASHINGTON STATE ELECTRIC UTILITY       1.100101e+10  \n",
       "83014   NON WASHINGTON STATE ELECTRIC UTILITY       2.916503e+10  \n",
       "...                                       ...                ...  \n",
       "180177  NON WASHINGTON STATE ELECTRIC UTILITY       6.083003e+09  \n",
       "180341  NON WASHINGTON STATE ELECTRIC UTILITY       4.019005e+09  \n",
       "180921  NON WASHINGTON STATE ELECTRIC UTILITY       5.105948e+10  \n",
       "181305  NON WASHINGTON STATE ELECTRIC UTILITY       6.073010e+09  \n",
       "181324  NON WASHINGTON STATE ELECTRIC UTILITY       5.115390e+10  \n",
       "\n",
       "[395 rows x 17 columns]"
      ]
     },
     "execution_count": 54,
     "metadata": {},
     "output_type": "execute_result"
    }
   ],
   "source": [
    "df.loc[df['Legislative District'].isnull()]"
   ]
  },
  {
   "cell_type": "markdown",
   "id": "04b590d5-849e-4661-8652-a8ec3ee828d0",
   "metadata": {},
   "source": [
    "There seams to be another state other the Washington. We could drop the those other states later. In the mean time, let us inspect above resulting output"
   ]
  },
  {
   "cell_type": "code",
   "execution_count": 55,
   "id": "ca9c550e-9728-4975-9a02-ccd3c14b0277",
   "metadata": {},
   "outputs": [
    {
     "data": {
      "text/plain": [
       "array(['VA', 'NV', 'CA', 'DC', 'MO', 'MD', 'SC', 'PA', 'IL', 'TX', 'NE',\n",
       "       'GA', 'AL', 'WY', 'NC', 'HI', 'CO', 'ID', 'AZ', 'KS', 'FL', 'AR',\n",
       "       'IN', 'MN', 'OR', 'OH', 'NY', 'NM', 'UT', 'LA', 'CT', 'MI', 'MA',\n",
       "       'NH', 'OK', 'NJ', 'IA', 'RI', 'KY', 'AK', 'DE'], dtype=object)"
      ]
     },
     "execution_count": 55,
     "metadata": {},
     "output_type": "execute_result"
    }
   ],
   "source": [
    "df.loc[df['Legislative District'].isnull()]['State'].unique()"
   ]
  },
  {
   "cell_type": "markdown",
   "id": "410b1925-9c4f-46f6-9b72-471b9a750b0a",
   "metadata": {},
   "source": [
    "A lot of states are in the record. Let's remove those states"
   ]
  },
  {
   "cell_type": "code",
   "execution_count": 56,
   "id": "7eef834b-531a-42a4-b5c4-5fada8c1eafb",
   "metadata": {},
   "outputs": [],
   "source": [
    "df = df.loc[df['State'] == 'WA']"
   ]
  },
  {
   "cell_type": "markdown",
   "id": "c4032a81-644f-4ba7-8d25-4541974c926d",
   "metadata": {},
   "source": [
    "#### Vehicle Location"
   ]
  },
  {
   "cell_type": "code",
   "execution_count": 57,
   "id": "fa18900b-2120-428b-a50e-a40fb16e038c",
   "metadata": {},
   "outputs": [
    {
     "data": {
      "text/html": [
       "<div>\n",
       "<style scoped>\n",
       "    .dataframe tbody tr th:only-of-type {\n",
       "        vertical-align: middle;\n",
       "    }\n",
       "\n",
       "    .dataframe tbody tr th {\n",
       "        vertical-align: top;\n",
       "    }\n",
       "\n",
       "    .dataframe thead th {\n",
       "        text-align: right;\n",
       "    }\n",
       "</style>\n",
       "<table border=\"1\" class=\"dataframe\">\n",
       "  <thead>\n",
       "    <tr style=\"text-align: right;\">\n",
       "      <th></th>\n",
       "      <th>VIN (1-10)</th>\n",
       "      <th>County</th>\n",
       "      <th>City</th>\n",
       "      <th>State</th>\n",
       "      <th>Postal Code</th>\n",
       "      <th>Model Year</th>\n",
       "      <th>Make</th>\n",
       "      <th>Model</th>\n",
       "      <th>Electric Vehicle Type</th>\n",
       "      <th>Clean Alternative Fuel Vehicle (CAFV) Eligibility</th>\n",
       "      <th>Electric Range</th>\n",
       "      <th>Base MSRP</th>\n",
       "      <th>Legislative District</th>\n",
       "      <th>DOL Vehicle ID</th>\n",
       "      <th>Vehicle Location</th>\n",
       "      <th>Electric Utility</th>\n",
       "      <th>2020 Census Tract</th>\n",
       "    </tr>\n",
       "  </thead>\n",
       "  <tbody>\n",
       "    <tr>\n",
       "      <th>101148</th>\n",
       "      <td>JTDKARFP1H</td>\n",
       "      <td>Pacific</td>\n",
       "      <td>Long Beach</td>\n",
       "      <td>WA</td>\n",
       "      <td>98634.0</td>\n",
       "      <td>2017</td>\n",
       "      <td>TOYOTA</td>\n",
       "      <td>PRIUS PRIME</td>\n",
       "      <td>Plug-in Hybrid Electric Vehicle (PHEV)</td>\n",
       "      <td>Not eligible due to low battery range</td>\n",
       "      <td>25</td>\n",
       "      <td>0</td>\n",
       "      <td>19.0</td>\n",
       "      <td>171247282</td>\n",
       "      <td>NaN</td>\n",
       "      <td>BONNEVILLE POWER ADMINISTRATION||PUD NO 2 OF P...</td>\n",
       "      <td>5.304995e+10</td>\n",
       "    </tr>\n",
       "    <tr>\n",
       "      <th>133375</th>\n",
       "      <td>1G1FW6S08N</td>\n",
       "      <td>Pacific</td>\n",
       "      <td>Long Beach</td>\n",
       "      <td>WA</td>\n",
       "      <td>98634.0</td>\n",
       "      <td>2022</td>\n",
       "      <td>CHEVROLET</td>\n",
       "      <td>BOLT EV</td>\n",
       "      <td>Battery Electric Vehicle (BEV)</td>\n",
       "      <td>Eligibility unknown as battery range has not b...</td>\n",
       "      <td>0</td>\n",
       "      <td>0</td>\n",
       "      <td>19.0</td>\n",
       "      <td>218102209</td>\n",
       "      <td>NaN</td>\n",
       "      <td>BONNEVILLE POWER ADMINISTRATION||PUD NO 2 OF P...</td>\n",
       "      <td>5.304995e+10</td>\n",
       "    </tr>\n",
       "    <tr>\n",
       "      <th>140242</th>\n",
       "      <td>KNDJX3AE8H</td>\n",
       "      <td>Pacific</td>\n",
       "      <td>Long Beach</td>\n",
       "      <td>WA</td>\n",
       "      <td>98634.0</td>\n",
       "      <td>2017</td>\n",
       "      <td>KIA</td>\n",
       "      <td>SOUL EV</td>\n",
       "      <td>Battery Electric Vehicle (BEV)</td>\n",
       "      <td>Clean Alternative Fuel Vehicle Eligible</td>\n",
       "      <td>93</td>\n",
       "      <td>32250</td>\n",
       "      <td>19.0</td>\n",
       "      <td>106442773</td>\n",
       "      <td>NaN</td>\n",
       "      <td>BONNEVILLE POWER ADMINISTRATION||PUD NO 2 OF P...</td>\n",
       "      <td>5.304995e+10</td>\n",
       "    </tr>\n",
       "    <tr>\n",
       "      <th>143254</th>\n",
       "      <td>1C4JJXP69P</td>\n",
       "      <td>Pacific</td>\n",
       "      <td>Long Beach</td>\n",
       "      <td>WA</td>\n",
       "      <td>98634.0</td>\n",
       "      <td>2023</td>\n",
       "      <td>JEEP</td>\n",
       "      <td>WRANGLER</td>\n",
       "      <td>Plug-in Hybrid Electric Vehicle (PHEV)</td>\n",
       "      <td>Not eligible due to low battery range</td>\n",
       "      <td>21</td>\n",
       "      <td>0</td>\n",
       "      <td>19.0</td>\n",
       "      <td>254934886</td>\n",
       "      <td>NaN</td>\n",
       "      <td>BONNEVILLE POWER ADMINISTRATION||PUD NO 2 OF P...</td>\n",
       "      <td>5.304995e+10</td>\n",
       "    </tr>\n",
       "    <tr>\n",
       "      <th>148822</th>\n",
       "      <td>KMHE54L2XH</td>\n",
       "      <td>Pacific</td>\n",
       "      <td>Long Beach</td>\n",
       "      <td>WA</td>\n",
       "      <td>98634.0</td>\n",
       "      <td>2017</td>\n",
       "      <td>HYUNDAI</td>\n",
       "      <td>SONATA</td>\n",
       "      <td>Plug-in Hybrid Electric Vehicle (PHEV)</td>\n",
       "      <td>Not eligible due to low battery range</td>\n",
       "      <td>27</td>\n",
       "      <td>0</td>\n",
       "      <td>19.0</td>\n",
       "      <td>245533578</td>\n",
       "      <td>NaN</td>\n",
       "      <td>BONNEVILLE POWER ADMINISTRATION||PUD NO 2 OF P...</td>\n",
       "      <td>5.304995e+10</td>\n",
       "    </tr>\n",
       "  </tbody>\n",
       "</table>\n",
       "</div>"
      ],
      "text/plain": [
       "        VIN (1-10)   County        City State  Postal Code  Model Year  \\\n",
       "101148  JTDKARFP1H  Pacific  Long Beach    WA      98634.0        2017   \n",
       "133375  1G1FW6S08N  Pacific  Long Beach    WA      98634.0        2022   \n",
       "140242  KNDJX3AE8H  Pacific  Long Beach    WA      98634.0        2017   \n",
       "143254  1C4JJXP69P  Pacific  Long Beach    WA      98634.0        2023   \n",
       "148822  KMHE54L2XH  Pacific  Long Beach    WA      98634.0        2017   \n",
       "\n",
       "             Make        Model                   Electric Vehicle Type  \\\n",
       "101148     TOYOTA  PRIUS PRIME  Plug-in Hybrid Electric Vehicle (PHEV)   \n",
       "133375  CHEVROLET      BOLT EV          Battery Electric Vehicle (BEV)   \n",
       "140242        KIA      SOUL EV          Battery Electric Vehicle (BEV)   \n",
       "143254       JEEP     WRANGLER  Plug-in Hybrid Electric Vehicle (PHEV)   \n",
       "148822    HYUNDAI       SONATA  Plug-in Hybrid Electric Vehicle (PHEV)   \n",
       "\n",
       "        Clean Alternative Fuel Vehicle (CAFV) Eligibility  Electric Range  \\\n",
       "101148              Not eligible due to low battery range              25   \n",
       "133375  Eligibility unknown as battery range has not b...               0   \n",
       "140242            Clean Alternative Fuel Vehicle Eligible              93   \n",
       "143254              Not eligible due to low battery range              21   \n",
       "148822              Not eligible due to low battery range              27   \n",
       "\n",
       "        Base MSRP  Legislative District  DOL Vehicle ID Vehicle Location  \\\n",
       "101148          0                  19.0       171247282              NaN   \n",
       "133375          0                  19.0       218102209              NaN   \n",
       "140242      32250                  19.0       106442773              NaN   \n",
       "143254          0                  19.0       254934886              NaN   \n",
       "148822          0                  19.0       245533578              NaN   \n",
       "\n",
       "                                         Electric Utility  2020 Census Tract  \n",
       "101148  BONNEVILLE POWER ADMINISTRATION||PUD NO 2 OF P...       5.304995e+10  \n",
       "133375  BONNEVILLE POWER ADMINISTRATION||PUD NO 2 OF P...       5.304995e+10  \n",
       "140242  BONNEVILLE POWER ADMINISTRATION||PUD NO 2 OF P...       5.304995e+10  \n",
       "143254  BONNEVILLE POWER ADMINISTRATION||PUD NO 2 OF P...       5.304995e+10  \n",
       "148822  BONNEVILLE POWER ADMINISTRATION||PUD NO 2 OF P...       5.304995e+10  "
      ]
     },
     "execution_count": 57,
     "metadata": {},
     "output_type": "execute_result"
    }
   ],
   "source": [
    "df.loc[df['Vehicle Location'].isnull()]"
   ]
  },
  {
   "cell_type": "markdown",
   "id": "de5def79-3d22-45b3-b7e5-3e2702d30349",
   "metadata": {},
   "source": [
    "Although these records are missing vehicle location, we will keep these records in the mean time."
   ]
  },
  {
   "cell_type": "markdown",
   "id": "1f377495-4962-4137-87ae-221913e5c2ba",
   "metadata": {},
   "source": [
    "#### Electric Utility"
   ]
  },
  {
   "cell_type": "code",
   "execution_count": 58,
   "id": "046da038-70c4-4b2b-a32b-029f199151f2",
   "metadata": {},
   "outputs": [
    {
     "data": {
      "text/html": [
       "<div>\n",
       "<style scoped>\n",
       "    .dataframe tbody tr th:only-of-type {\n",
       "        vertical-align: middle;\n",
       "    }\n",
       "\n",
       "    .dataframe tbody tr th {\n",
       "        vertical-align: top;\n",
       "    }\n",
       "\n",
       "    .dataframe thead th {\n",
       "        text-align: right;\n",
       "    }\n",
       "</style>\n",
       "<table border=\"1\" class=\"dataframe\">\n",
       "  <thead>\n",
       "    <tr style=\"text-align: right;\">\n",
       "      <th></th>\n",
       "      <th>VIN (1-10)</th>\n",
       "      <th>County</th>\n",
       "      <th>City</th>\n",
       "      <th>State</th>\n",
       "      <th>Postal Code</th>\n",
       "      <th>Model Year</th>\n",
       "      <th>Make</th>\n",
       "      <th>Model</th>\n",
       "      <th>Electric Vehicle Type</th>\n",
       "      <th>Clean Alternative Fuel Vehicle (CAFV) Eligibility</th>\n",
       "      <th>Electric Range</th>\n",
       "      <th>Base MSRP</th>\n",
       "      <th>Legislative District</th>\n",
       "      <th>DOL Vehicle ID</th>\n",
       "      <th>Vehicle Location</th>\n",
       "      <th>Electric Utility</th>\n",
       "      <th>2020 Census Tract</th>\n",
       "    </tr>\n",
       "  </thead>\n",
       "  <tbody>\n",
       "  </tbody>\n",
       "</table>\n",
       "</div>"
      ],
      "text/plain": [
       "Empty DataFrame\n",
       "Columns: [VIN (1-10), County, City, State, Postal Code, Model Year, Make, Model, Electric Vehicle Type, Clean Alternative Fuel Vehicle (CAFV) Eligibility, Electric Range, Base MSRP, Legislative District, DOL Vehicle ID, Vehicle Location, Electric Utility, 2020 Census Tract]\n",
       "Index: []"
      ]
     },
     "execution_count": 58,
     "metadata": {},
     "output_type": "execute_result"
    }
   ],
   "source": [
    "df.loc[df['Electric Utility'].isnull()]"
   ]
  },
  {
   "cell_type": "markdown",
   "id": "5a95d76b-6f84-4275-a05e-7283fac0f425",
   "metadata": {},
   "source": [
    "Null values remove from previous round"
   ]
  },
  {
   "cell_type": "markdown",
   "id": "ca9a5c31-9620-434a-afe1-24b24e31a2b2",
   "metadata": {},
   "source": [
    "#### 2020 Census Tract"
   ]
  },
  {
   "cell_type": "code",
   "execution_count": 59,
   "id": "80e3f24f-4433-46b5-9e3c-b401d0ce1187",
   "metadata": {},
   "outputs": [
    {
     "data": {
      "text/html": [
       "<div>\n",
       "<style scoped>\n",
       "    .dataframe tbody tr th:only-of-type {\n",
       "        vertical-align: middle;\n",
       "    }\n",
       "\n",
       "    .dataframe tbody tr th {\n",
       "        vertical-align: top;\n",
       "    }\n",
       "\n",
       "    .dataframe thead th {\n",
       "        text-align: right;\n",
       "    }\n",
       "</style>\n",
       "<table border=\"1\" class=\"dataframe\">\n",
       "  <thead>\n",
       "    <tr style=\"text-align: right;\">\n",
       "      <th></th>\n",
       "      <th>VIN (1-10)</th>\n",
       "      <th>County</th>\n",
       "      <th>City</th>\n",
       "      <th>State</th>\n",
       "      <th>Postal Code</th>\n",
       "      <th>Model Year</th>\n",
       "      <th>Make</th>\n",
       "      <th>Model</th>\n",
       "      <th>Electric Vehicle Type</th>\n",
       "      <th>Clean Alternative Fuel Vehicle (CAFV) Eligibility</th>\n",
       "      <th>Electric Range</th>\n",
       "      <th>Base MSRP</th>\n",
       "      <th>Legislative District</th>\n",
       "      <th>DOL Vehicle ID</th>\n",
       "      <th>Vehicle Location</th>\n",
       "      <th>Electric Utility</th>\n",
       "      <th>2020 Census Tract</th>\n",
       "    </tr>\n",
       "  </thead>\n",
       "  <tbody>\n",
       "  </tbody>\n",
       "</table>\n",
       "</div>"
      ],
      "text/plain": [
       "Empty DataFrame\n",
       "Columns: [VIN (1-10), County, City, State, Postal Code, Model Year, Make, Model, Electric Vehicle Type, Clean Alternative Fuel Vehicle (CAFV) Eligibility, Electric Range, Base MSRP, Legislative District, DOL Vehicle ID, Vehicle Location, Electric Utility, 2020 Census Tract]\n",
       "Index: []"
      ]
     },
     "execution_count": 59,
     "metadata": {},
     "output_type": "execute_result"
    }
   ],
   "source": [
    "df.loc[df['2020 Census Tract'].isnull()]"
   ]
  },
  {
   "cell_type": "markdown",
   "id": "6c3fd877-ef13-4073-8f56-eb1442840fd2",
   "metadata": {},
   "source": [
    "Null values remove from previous round"
   ]
  },
  {
   "cell_type": "code",
   "execution_count": 60,
   "id": "3d2cbc5d-b480-4122-89a8-32465b8c0dbf",
   "metadata": {},
   "outputs": [
    {
     "data": {
      "text/plain": [
       "VIN (1-10)                                           0\n",
       "County                                               0\n",
       "City                                                 0\n",
       "State                                                0\n",
       "Postal Code                                          0\n",
       "Model Year                                           0\n",
       "Make                                                 0\n",
       "Model                                                0\n",
       "Electric Vehicle Type                                0\n",
       "Clean Alternative Fuel Vehicle (CAFV) Eligibility    0\n",
       "Electric Range                                       0\n",
       "Base MSRP                                            0\n",
       "Legislative District                                 0\n",
       "DOL Vehicle ID                                       0\n",
       "Vehicle Location                                     5\n",
       "Electric Utility                                     0\n",
       "2020 Census Tract                                    0\n",
       "dtype: int64"
      ]
     },
     "execution_count": 60,
     "metadata": {},
     "output_type": "execute_result"
    }
   ],
   "source": [
    "#checking dataframe again for nulls\n",
    "df.isnull().sum()"
   ]
  },
  {
   "cell_type": "markdown",
   "id": "7790a6d4-0614-4e4a-a8b4-b17eae9ee9df",
   "metadata": {},
   "source": [
    "### Further Inspection"
   ]
  },
  {
   "cell_type": "code",
   "execution_count": 61,
   "id": "ba5385bc-1774-4ead-ba64-f0663dd6c90c",
   "metadata": {},
   "outputs": [
    {
     "name": "stdout",
     "output_type": "stream",
     "text": [
      "<class 'pandas.core.frame.DataFrame'>\n",
      "Index: 181060 entries, 0 to 181457\n",
      "Data columns (total 17 columns):\n",
      " #   Column                                             Non-Null Count   Dtype  \n",
      "---  ------                                             --------------   -----  \n",
      " 0   VIN (1-10)                                         181060 non-null  object \n",
      " 1   County                                             181060 non-null  object \n",
      " 2   City                                               181060 non-null  object \n",
      " 3   State                                              181060 non-null  object \n",
      " 4   Postal Code                                        181060 non-null  float64\n",
      " 5   Model Year                                         181060 non-null  int64  \n",
      " 6   Make                                               181060 non-null  object \n",
      " 7   Model                                              181060 non-null  object \n",
      " 8   Electric Vehicle Type                              181060 non-null  object \n",
      " 9   Clean Alternative Fuel Vehicle (CAFV) Eligibility  181060 non-null  object \n",
      " 10  Electric Range                                     181060 non-null  int64  \n",
      " 11  Base MSRP                                          181060 non-null  int64  \n",
      " 12  Legislative District                               181060 non-null  float64\n",
      " 13  DOL Vehicle ID                                     181060 non-null  int64  \n",
      " 14  Vehicle Location                                   181055 non-null  object \n",
      " 15  Electric Utility                                   181060 non-null  object \n",
      " 16  2020 Census Tract                                  181060 non-null  float64\n",
      "dtypes: float64(3), int64(4), object(10)\n",
      "memory usage: 24.9+ MB\n"
     ]
    }
   ],
   "source": [
    "df.info()"
   ]
  },
  {
   "cell_type": "markdown",
   "id": "dfa01a33-c16b-4584-9017-e11ecc85d58c",
   "metadata": {},
   "source": [
    "#### Checking Unique values on Columns of Interest"
   ]
  },
  {
   "cell_type": "code",
   "execution_count": 62,
   "id": "ef78c683-20f8-44cf-9972-cb4a4dd42537",
   "metadata": {},
   "outputs": [
    {
     "data": {
      "text/plain": [
       "11055"
      ]
     },
     "execution_count": 62,
     "metadata": {},
     "output_type": "execute_result"
    }
   ],
   "source": [
    "df['VIN (1-10)'].nunique()"
   ]
  },
  {
   "cell_type": "code",
   "execution_count": 63,
   "id": "4d20465f-7130-413f-b29d-c09cac54ea0e",
   "metadata": {},
   "outputs": [
    {
     "data": {
      "text/plain": [
       "39"
      ]
     },
     "execution_count": 63,
     "metadata": {},
     "output_type": "execute_result"
    }
   ],
   "source": [
    "df['County'].nunique()"
   ]
  },
  {
   "cell_type": "code",
   "execution_count": 64,
   "id": "e07d1f29-20a2-41dc-9fe7-d26510913d9c",
   "metadata": {},
   "outputs": [
    {
     "data": {
      "text/plain": [
       "468"
      ]
     },
     "execution_count": 64,
     "metadata": {},
     "output_type": "execute_result"
    }
   ],
   "source": [
    "df['City'].nunique()"
   ]
  },
  {
   "cell_type": "code",
   "execution_count": 65,
   "id": "e76c9627-0348-4ae2-aeda-d08fe8818730",
   "metadata": {},
   "outputs": [
    {
     "data": {
      "text/plain": [
       "1"
      ]
     },
     "execution_count": 65,
     "metadata": {},
     "output_type": "execute_result"
    }
   ],
   "source": [
    "df['State'].nunique()"
   ]
  },
  {
   "cell_type": "code",
   "execution_count": 66,
   "id": "5a3dd1ed-26bb-440d-a3a0-c06ffa98752f",
   "metadata": {},
   "outputs": [
    {
     "data": {
      "text/plain": [
       "22"
      ]
     },
     "execution_count": 66,
     "metadata": {},
     "output_type": "execute_result"
    }
   ],
   "source": [
    "df['Model Year'].nunique()"
   ]
  },
  {
   "cell_type": "code",
   "execution_count": 67,
   "id": "e8321e87-7a2c-498d-9ab2-2cb25f507261",
   "metadata": {},
   "outputs": [
    {
     "data": {
      "text/plain": [
       "array([2017, 2018, 2021, 2020, 2023, 2022, 2015, 2013, 2019, 2014, 2016,\n",
       "       2024, 2011, 2012, 2010, 2008, 2000, 2002, 1998, 1997, 1999, 2003],\n",
       "      dtype=int64)"
      ]
     },
     "execution_count": 67,
     "metadata": {},
     "output_type": "execute_result"
    }
   ],
   "source": [
    "#there are 22 model years. Let us look into it\n",
    "df['Model Year'].unique()"
   ]
  },
  {
   "cell_type": "code",
   "execution_count": 68,
   "id": "201cddf9-3da5-4075-980f-3a9fab5964b0",
   "metadata": {},
   "outputs": [
    {
     "data": {
      "text/plain": [
       "40"
      ]
     },
     "execution_count": 68,
     "metadata": {},
     "output_type": "execute_result"
    }
   ],
   "source": [
    "df['Make'].nunique()"
   ]
  },
  {
   "cell_type": "code",
   "execution_count": 69,
   "id": "31650e18-0f81-4216-af33-6f31d706dfe4",
   "metadata": {},
   "outputs": [
    {
     "data": {
      "text/plain": [
       "array(['AUDI', 'TESLA', 'JEEP', 'CHEVROLET', 'KIA', 'NISSAN', 'VOLVO',\n",
       "       'FIAT', 'TOYOTA', 'FORD', 'BMW', 'CHRYSLER', 'VOLKSWAGEN', 'HONDA',\n",
       "       'LEXUS', 'CADILLAC', 'MAZDA', 'SMART', 'LINCOLN', 'MINI',\n",
       "       'MITSUBISHI', 'MERCEDES-BENZ', 'PORSCHE', 'RIVIAN', 'HYUNDAI',\n",
       "       'DODGE', 'GENESIS', 'SUBARU', 'LUCID', 'JAGUAR', 'POLESTAR',\n",
       "       'LAND ROVER', 'TH!NK', 'ALFA ROMEO', 'GMC', 'FISKER',\n",
       "       'AZURE DYNAMICS', 'BENTLEY', 'WHEEGO ELECTRIC CARS', 'ROLLS ROYCE'],\n",
       "      dtype=object)"
      ]
     },
     "execution_count": 69,
     "metadata": {},
     "output_type": "execute_result"
    }
   ],
   "source": [
    "df['Make'].unique()"
   ]
  },
  {
   "cell_type": "code",
   "execution_count": 70,
   "id": "706b1206-cf43-41ce-bf7f-d75804a14576",
   "metadata": {},
   "outputs": [
    {
     "data": {
      "text/plain": [
       "3"
      ]
     },
     "execution_count": 70,
     "metadata": {},
     "output_type": "execute_result"
    }
   ],
   "source": [
    "df['Clean Alternative Fuel Vehicle (CAFV) Eligibility'].nunique()"
   ]
  },
  {
   "cell_type": "code",
   "execution_count": 71,
   "id": "cc118b33-a8f6-423a-9f02-524eee7b7858",
   "metadata": {},
   "outputs": [
    {
     "data": {
      "text/plain": [
       "array(['Not eligible due to low battery range',\n",
       "       'Clean Alternative Fuel Vehicle Eligible',\n",
       "       'Eligibility unknown as battery range has not been researched'],\n",
       "      dtype=object)"
      ]
     },
     "execution_count": 71,
     "metadata": {},
     "output_type": "execute_result"
    }
   ],
   "source": [
    "df['Clean Alternative Fuel Vehicle (CAFV) Eligibility'].unique()"
   ]
  },
  {
   "cell_type": "markdown",
   "id": "6d1ca8a9-e215-4147-8e7d-78efc868c810",
   "metadata": {},
   "source": [
    "### Covert Columns to correct Datatypes"
   ]
  },
  {
   "cell_type": "markdown",
   "id": "d7564e11-192c-4790-9017-aaca0478f2ab",
   "metadata": {},
   "source": [
    "Columns to Covert\n",
    "- Postal Code\n",
    "- Legislative District\n",
    "- DOL Vehicle ID"
   ]
  },
  {
   "cell_type": "markdown",
   "id": "ed95a63c-3007-4337-89d5-5a4824216430",
   "metadata": {},
   "source": [
    "#### Postal Code"
   ]
  },
  {
   "cell_type": "code",
   "execution_count": 72,
   "id": "a772415f-7e9c-4ee4-a3d1-1e42aa6a90ec",
   "metadata": {},
   "outputs": [],
   "source": [
    "df['Postal Code'] = df['Postal Code'].astype('str')"
   ]
  },
  {
   "cell_type": "code",
   "execution_count": 73,
   "id": "f6e373f4-d21f-412e-9b29-eb42f31930d5",
   "metadata": {},
   "outputs": [
    {
     "data": {
      "text/plain": [
       "0    98126.0\n",
       "1    98502.0\n",
       "2    98516.0\n",
       "3    98589.0\n",
       "4    98902.0\n",
       "Name: Postal Code, dtype: object"
      ]
     },
     "execution_count": 73,
     "metadata": {},
     "output_type": "execute_result"
    }
   ],
   "source": [
    "#view data\n",
    "df['Postal Code'].head()"
   ]
  },
  {
   "cell_type": "markdown",
   "id": "5571424f-7d35-4e97-9f05-0cd505ace7ac",
   "metadata": {},
   "source": [
    "Postal code should only have 5 digits. Decimal and zero to be removed"
   ]
  },
  {
   "cell_type": "code",
   "execution_count": 82,
   "id": "144e555b-0fa7-4132-a724-2a2f2a5e810d",
   "metadata": {},
   "outputs": [],
   "source": [
    "df['Postal Code'] = df['Postal Code'].str.split('.').str.get(0)"
   ]
  },
  {
   "cell_type": "code",
   "execution_count": 83,
   "id": "5558ee5c-58b1-41ec-a2cd-3f867a213f19",
   "metadata": {},
   "outputs": [
    {
     "data": {
      "text/plain": [
       "array([5], dtype=int64)"
      ]
     },
     "execution_count": 83,
     "metadata": {},
     "output_type": "execute_result"
    }
   ],
   "source": [
    "#checking length of codes\n",
    "df['Postal Code'].str.len().unique()"
   ]
  },
  {
   "cell_type": "markdown",
   "id": "d4dfadcd-52f9-4e81-a98b-9bf0a79f07fd",
   "metadata": {},
   "source": [
    "#### Legislative District"
   ]
  },
  {
   "cell_type": "code",
   "execution_count": 88,
   "id": "cd2913be-b5b2-4ab5-998a-e8c7ce4afa16",
   "metadata": {},
   "outputs": [
    {
     "data": {
      "text/plain": [
       "array([34., 22., 20., 14., 23.,  1., 36., 26., 15., 10., 44., 46., 37.,\n",
       "       38., 35., 39., 21., 40., 12.,  5., 13.,  9., 45., 43., 32.,  2.,\n",
       "       16., 48., 18., 17., 41., 30., 11., 19., 33., 47., 24.,  7., 31.,\n",
       "       49., 25., 28.,  6.,  3.,  8., 27., 42.,  4., 29.])"
      ]
     },
     "execution_count": 88,
     "metadata": {},
     "output_type": "execute_result"
    }
   ],
   "source": [
    "df['Legislative District'].unique()"
   ]
  },
  {
   "cell_type": "code",
   "execution_count": 89,
   "id": "d4fa592e-f7fe-4906-8f62-2588291c38b4",
   "metadata": {},
   "outputs": [],
   "source": [
    "#covert to string\n",
    "df['Legislative District'] = df['Legislative District'].astype('str')\n"
   ]
  },
  {
   "cell_type": "code",
   "execution_count": 90,
   "id": "7faccaae-475d-4400-a9a2-27c8cefa9808",
   "metadata": {},
   "outputs": [
    {
     "data": {
      "text/plain": [
       "0    34.0\n",
       "1    22.0\n",
       "2    22.0\n",
       "3    20.0\n",
       "4    14.0\n",
       "Name: Legislative District, dtype: object"
      ]
     },
     "execution_count": 90,
     "metadata": {},
     "output_type": "execute_result"
    }
   ],
   "source": [
    "df['Legislative District'].head()"
   ]
  },
  {
   "cell_type": "code",
   "execution_count": 92,
   "id": "1ca518f9-1921-4760-b003-a4e462775b3d",
   "metadata": {},
   "outputs": [],
   "source": [
    "df['Legislative District'] = df['Legislative District'].str.split('.').str.get(0)"
   ]
  },
  {
   "cell_type": "markdown",
   "id": "1eb739d2-a512-44a5-9161-8ab98e5d2c41",
   "metadata": {},
   "source": [
    "#### DOL Vehicle ID"
   ]
  },
  {
   "cell_type": "code",
   "execution_count": 97,
   "id": "ec8a3171-b7be-426d-908a-706549be38a1",
   "metadata": {},
   "outputs": [],
   "source": [
    "df['DOL Vehicle ID'] = df['DOL Vehicle ID'].astype('str')"
   ]
  },
  {
   "cell_type": "code",
   "execution_count": 98,
   "id": "4ae57d06-7754-495b-a717-2c992b74e1fe",
   "metadata": {},
   "outputs": [
    {
     "data": {
      "text/plain": [
       "array([9, 7, 6, 8, 5, 4], dtype=int64)"
      ]
     },
     "execution_count": 98,
     "metadata": {},
     "output_type": "execute_result"
    }
   ],
   "source": [
    "df['DOL Vehicle ID'].str.len().unique()"
   ]
  },
  {
   "cell_type": "markdown",
   "id": "e6587434-9e14-40e3-afbe-41f6c7af49e3",
   "metadata": {},
   "source": [
    "#### Basic Stats"
   ]
  },
  {
   "cell_type": "code",
   "execution_count": 100,
   "id": "0982996b-bedb-47b9-aa15-a9c8f30e66da",
   "metadata": {},
   "outputs": [
    {
     "data": {
      "text/html": [
       "<div>\n",
       "<style scoped>\n",
       "    .dataframe tbody tr th:only-of-type {\n",
       "        vertical-align: middle;\n",
       "    }\n",
       "\n",
       "    .dataframe tbody tr th {\n",
       "        vertical-align: top;\n",
       "    }\n",
       "\n",
       "    .dataframe thead th {\n",
       "        text-align: right;\n",
       "    }\n",
       "</style>\n",
       "<table border=\"1\" class=\"dataframe\">\n",
       "  <thead>\n",
       "    <tr style=\"text-align: right;\">\n",
       "      <th></th>\n",
       "      <th>Model Year</th>\n",
       "      <th>Electric Range</th>\n",
       "      <th>Base MSRP</th>\n",
       "      <th>2020 Census Tract</th>\n",
       "      <th>post_digit</th>\n",
       "    </tr>\n",
       "  </thead>\n",
       "  <tbody>\n",
       "    <tr>\n",
       "      <th>count</th>\n",
       "      <td>181060.000000</td>\n",
       "      <td>181060.000000</td>\n",
       "      <td>181060.000000</td>\n",
       "      <td>1.810600e+05</td>\n",
       "      <td>181060.0</td>\n",
       "    </tr>\n",
       "    <tr>\n",
       "      <th>mean</th>\n",
       "      <td>2020.583304</td>\n",
       "      <td>57.809290</td>\n",
       "      <td>1038.290622</td>\n",
       "      <td>5.303982e+10</td>\n",
       "      <td>7.0</td>\n",
       "    </tr>\n",
       "    <tr>\n",
       "      <th>std</th>\n",
       "      <td>2.991070</td>\n",
       "      <td>91.386216</td>\n",
       "      <td>8220.374686</td>\n",
       "      <td>1.621859e+07</td>\n",
       "      <td>0.0</td>\n",
       "    </tr>\n",
       "    <tr>\n",
       "      <th>min</th>\n",
       "      <td>1997.000000</td>\n",
       "      <td>0.000000</td>\n",
       "      <td>0.000000</td>\n",
       "      <td>5.300195e+10</td>\n",
       "      <td>7.0</td>\n",
       "    </tr>\n",
       "    <tr>\n",
       "      <th>25%</th>\n",
       "      <td>2019.000000</td>\n",
       "      <td>0.000000</td>\n",
       "      <td>0.000000</td>\n",
       "      <td>5.303301e+10</td>\n",
       "      <td>7.0</td>\n",
       "    </tr>\n",
       "    <tr>\n",
       "      <th>50%</th>\n",
       "      <td>2022.000000</td>\n",
       "      <td>0.000000</td>\n",
       "      <td>0.000000</td>\n",
       "      <td>5.303303e+10</td>\n",
       "      <td>7.0</td>\n",
       "    </tr>\n",
       "    <tr>\n",
       "      <th>75%</th>\n",
       "      <td>2023.000000</td>\n",
       "      <td>75.000000</td>\n",
       "      <td>0.000000</td>\n",
       "      <td>5.305307e+10</td>\n",
       "      <td>7.0</td>\n",
       "    </tr>\n",
       "    <tr>\n",
       "      <th>max</th>\n",
       "      <td>2024.000000</td>\n",
       "      <td>337.000000</td>\n",
       "      <td>845000.000000</td>\n",
       "      <td>5.307794e+10</td>\n",
       "      <td>7.0</td>\n",
       "    </tr>\n",
       "  </tbody>\n",
       "</table>\n",
       "</div>"
      ],
      "text/plain": [
       "          Model Year  Electric Range      Base MSRP  2020 Census Tract  \\\n",
       "count  181060.000000   181060.000000  181060.000000       1.810600e+05   \n",
       "mean     2020.583304       57.809290    1038.290622       5.303982e+10   \n",
       "std         2.991070       91.386216    8220.374686       1.621859e+07   \n",
       "min      1997.000000        0.000000       0.000000       5.300195e+10   \n",
       "25%      2019.000000        0.000000       0.000000       5.303301e+10   \n",
       "50%      2022.000000        0.000000       0.000000       5.303303e+10   \n",
       "75%      2023.000000       75.000000       0.000000       5.305307e+10   \n",
       "max      2024.000000      337.000000  845000.000000       5.307794e+10   \n",
       "\n",
       "       post_digit  \n",
       "count    181060.0  \n",
       "mean          7.0  \n",
       "std           0.0  \n",
       "min           7.0  \n",
       "25%           7.0  \n",
       "50%           7.0  \n",
       "75%           7.0  \n",
       "max           7.0  "
      ]
     },
     "execution_count": 100,
     "metadata": {},
     "output_type": "execute_result"
    }
   ],
   "source": [
    "df.describe()"
   ]
  },
  {
   "cell_type": "markdown",
   "id": "8df9093a-1e9f-48b5-b2f7-42e2902d2cda",
   "metadata": {},
   "source": [
    "### Exporting data\n"
   ]
  },
  {
   "cell_type": "code",
   "execution_count": 101,
   "id": "56ce0028-b2c0-48a8-b659-80dcef22907a",
   "metadata": {},
   "outputs": [],
   "source": [
    "#df.to_excel('EV_Population_Data.xlsx', index=False, sheet_name='EV_DATA')"
   ]
  },
  {
   "cell_type": "code",
   "execution_count": null,
   "id": "44916231-5c99-4dac-853a-555e5b50f5be",
   "metadata": {},
   "outputs": [],
   "source": []
  }
 ],
 "metadata": {
  "kernelspec": {
   "display_name": "Python 3 (ipykernel)",
   "language": "python",
   "name": "python3"
  },
  "language_info": {
   "codemirror_mode": {
    "name": "ipython",
    "version": 3
   },
   "file_extension": ".py",
   "mimetype": "text/x-python",
   "name": "python",
   "nbconvert_exporter": "python",
   "pygments_lexer": "ipython3",
   "version": "3.12.3"
  }
 },
 "nbformat": 4,
 "nbformat_minor": 5
}
